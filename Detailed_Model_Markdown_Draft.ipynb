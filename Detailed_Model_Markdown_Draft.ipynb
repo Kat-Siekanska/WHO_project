{
  "nbformat": 4,
  "nbformat_minor": 0,
  "metadata": {
    "colab": {
      "provenance": []
    },
    "kernelspec": {
      "name": "python3",
      "display_name": "Python 3"
    },
    "language_info": {
      "name": "python"
    }
  },
  "cells": [
    {
      "cell_type": "markdown",
      "source": [
        "<p style=\"text-align: center;\">\n",
        "    <img src=\"https://upload.wikimedia.org/wikipedia/commons/thumb/2/26/World_Health_Organization_Logo.svg/375px-World_Health_Organization_Logo.svg.png\"\n",
        "         alt=\"WHO Logo\"\n",
        "         style=\"display: block; margin: auto; height: 50px;\" />\n",
        "</p>"
      ],
      "metadata": {
        "id": "fu2oPUqKyzEV"
      }
    },
    {
      "cell_type": "markdown",
      "source": [
        "# 🌍 World Health Organisation Project: Predicting Life Expectancy 📊\n"
      ],
      "metadata": {
        "id": "N8vBKwnX181D"
      }
    },
    {
      "cell_type": "markdown",
      "source": [
        "<p style=\"text-align: left;\">\n",
        "    <img src=\"https://th.bing.com/th/id/OIP.-lAhNnbsu_F7YmCUiStBdAHaDt?w=256&h=180&c=7&r=0&o=5&dpr=1.3&pid=1.7 https://th.bing.com/th/id/OIP.-lAhNnbsu_F7YmCUiStBdAHaDt?w=256&h=180&c=7&r=0&o=5&dpr=1.3&pid=1.7\"\n",
        "         alt=\"Kung Fu Panda\"\n",
        "         style=\"display: block; margin: auto; height: 50px;\" />\n",
        "</p>\n",
        "\n",
        "```\n",
        "Kung-Fu Pandas!\n",
        "Jamie, Kat, Pedro, Moka\n",
        "```"
      ],
      "metadata": {
        "id": "HYkPFVGy4rHk"
      }
    },
    {
      "cell_type": "markdown",
      "source": [
        "\n",
        "## Overview 🧐\n",
        "We are working on two predictive models for life expectancy:\n",
        "1. **Detailed & Accurate Model** 📈\n",
        "2. **Ethical Model** 💡\n",
        "\n",
        "\n",
        "---"
      ],
      "metadata": {
        "id": "nI8Bv_zX2EPf"
      }
    },
    {
      "cell_type": "markdown",
      "source": [
        "## Process & Steps Taken 🛠️\n",
        "\n"
      ],
      "metadata": {
        "id": "hdAQSpts2Gnr"
      }
    },
    {
      "cell_type": "markdown",
      "source": [
        "### **Importing the Dataset & Preparation** ⬇️\n",
        "Loading the data and getting it ready for analysis."
      ],
      "metadata": {
        "id": "TY5fHfZnaOaR"
      }
    },
    {
      "cell_type": "code",
      "source": [
        "# Importing libraries\n",
        "\n",
        "import pandas as pd\n",
        "import numpy as np\n",
        "import seaborn as sns\n",
        "import matplotlib.pyplot as plt\n",
        "\n",
        "# Use the train-test-split functionality from sklearn\n",
        "from sklearn.model_selection import train_test_split\n",
        "from sklearn import metrics\n",
        "\n",
        "# Use statsmodels for both the model & its evaluation\n",
        "import statsmodels.api as sm # Where we'll get the model from\n",
        "import statsmodels.tools     # Get the evaluation metrics\n",
        "from sklearn.preprocessing import StandardScaler, RobustScaler, MinMaxScaler\n",
        "from statsmodels.stats.outliers_influence import variance_inflation_factor"
      ],
      "metadata": {
        "id": "Cm6Ib0-3avw-"
      },
      "execution_count": null,
      "outputs": []
    },
    {
      "cell_type": "code",
      "source": [
        "from google.colab import files\n",
        "uploaded = files.upload()"
      ],
      "metadata": {
        "colab": {
          "base_uri": "https://localhost:8080/",
          "height": 73
        },
        "id": "Wa7kdJuXbIPh",
        "outputId": "34d2fe8c-90da-45c5-bdbe-2167c06a8614"
      },
      "execution_count": null,
      "outputs": [
        {
          "output_type": "display_data",
          "data": {
            "text/plain": [
              "<IPython.core.display.HTML object>"
            ],
            "text/html": [
              "\n",
              "     <input type=\"file\" id=\"files-e84aaf92-933e-4b6b-b088-c495640986e1\" name=\"files[]\" multiple disabled\n",
              "        style=\"border:none\" />\n",
              "     <output id=\"result-e84aaf92-933e-4b6b-b088-c495640986e1\">\n",
              "      Upload widget is only available when the cell has been executed in the\n",
              "      current browser session. Please rerun this cell to enable.\n",
              "      </output>\n",
              "      <script>// Copyright 2017 Google LLC\n",
              "//\n",
              "// Licensed under the Apache License, Version 2.0 (the \"License\");\n",
              "// you may not use this file except in compliance with the License.\n",
              "// You may obtain a copy of the License at\n",
              "//\n",
              "//      http://www.apache.org/licenses/LICENSE-2.0\n",
              "//\n",
              "// Unless required by applicable law or agreed to in writing, software\n",
              "// distributed under the License is distributed on an \"AS IS\" BASIS,\n",
              "// WITHOUT WARRANTIES OR CONDITIONS OF ANY KIND, either express or implied.\n",
              "// See the License for the specific language governing permissions and\n",
              "// limitations under the License.\n",
              "\n",
              "/**\n",
              " * @fileoverview Helpers for google.colab Python module.\n",
              " */\n",
              "(function(scope) {\n",
              "function span(text, styleAttributes = {}) {\n",
              "  const element = document.createElement('span');\n",
              "  element.textContent = text;\n",
              "  for (const key of Object.keys(styleAttributes)) {\n",
              "    element.style[key] = styleAttributes[key];\n",
              "  }\n",
              "  return element;\n",
              "}\n",
              "\n",
              "// Max number of bytes which will be uploaded at a time.\n",
              "const MAX_PAYLOAD_SIZE = 100 * 1024;\n",
              "\n",
              "function _uploadFiles(inputId, outputId) {\n",
              "  const steps = uploadFilesStep(inputId, outputId);\n",
              "  const outputElement = document.getElementById(outputId);\n",
              "  // Cache steps on the outputElement to make it available for the next call\n",
              "  // to uploadFilesContinue from Python.\n",
              "  outputElement.steps = steps;\n",
              "\n",
              "  return _uploadFilesContinue(outputId);\n",
              "}\n",
              "\n",
              "// This is roughly an async generator (not supported in the browser yet),\n",
              "// where there are multiple asynchronous steps and the Python side is going\n",
              "// to poll for completion of each step.\n",
              "// This uses a Promise to block the python side on completion of each step,\n",
              "// then passes the result of the previous step as the input to the next step.\n",
              "function _uploadFilesContinue(outputId) {\n",
              "  const outputElement = document.getElementById(outputId);\n",
              "  const steps = outputElement.steps;\n",
              "\n",
              "  const next = steps.next(outputElement.lastPromiseValue);\n",
              "  return Promise.resolve(next.value.promise).then((value) => {\n",
              "    // Cache the last promise value to make it available to the next\n",
              "    // step of the generator.\n",
              "    outputElement.lastPromiseValue = value;\n",
              "    return next.value.response;\n",
              "  });\n",
              "}\n",
              "\n",
              "/**\n",
              " * Generator function which is called between each async step of the upload\n",
              " * process.\n",
              " * @param {string} inputId Element ID of the input file picker element.\n",
              " * @param {string} outputId Element ID of the output display.\n",
              " * @return {!Iterable<!Object>} Iterable of next steps.\n",
              " */\n",
              "function* uploadFilesStep(inputId, outputId) {\n",
              "  const inputElement = document.getElementById(inputId);\n",
              "  inputElement.disabled = false;\n",
              "\n",
              "  const outputElement = document.getElementById(outputId);\n",
              "  outputElement.innerHTML = '';\n",
              "\n",
              "  const pickedPromise = new Promise((resolve) => {\n",
              "    inputElement.addEventListener('change', (e) => {\n",
              "      resolve(e.target.files);\n",
              "    });\n",
              "  });\n",
              "\n",
              "  const cancel = document.createElement('button');\n",
              "  inputElement.parentElement.appendChild(cancel);\n",
              "  cancel.textContent = 'Cancel upload';\n",
              "  const cancelPromise = new Promise((resolve) => {\n",
              "    cancel.onclick = () => {\n",
              "      resolve(null);\n",
              "    };\n",
              "  });\n",
              "\n",
              "  // Wait for the user to pick the files.\n",
              "  const files = yield {\n",
              "    promise: Promise.race([pickedPromise, cancelPromise]),\n",
              "    response: {\n",
              "      action: 'starting',\n",
              "    }\n",
              "  };\n",
              "\n",
              "  cancel.remove();\n",
              "\n",
              "  // Disable the input element since further picks are not allowed.\n",
              "  inputElement.disabled = true;\n",
              "\n",
              "  if (!files) {\n",
              "    return {\n",
              "      response: {\n",
              "        action: 'complete',\n",
              "      }\n",
              "    };\n",
              "  }\n",
              "\n",
              "  for (const file of files) {\n",
              "    const li = document.createElement('li');\n",
              "    li.append(span(file.name, {fontWeight: 'bold'}));\n",
              "    li.append(span(\n",
              "        `(${file.type || 'n/a'}) - ${file.size} bytes, ` +\n",
              "        `last modified: ${\n",
              "            file.lastModifiedDate ? file.lastModifiedDate.toLocaleDateString() :\n",
              "                                    'n/a'} - `));\n",
              "    const percent = span('0% done');\n",
              "    li.appendChild(percent);\n",
              "\n",
              "    outputElement.appendChild(li);\n",
              "\n",
              "    const fileDataPromise = new Promise((resolve) => {\n",
              "      const reader = new FileReader();\n",
              "      reader.onload = (e) => {\n",
              "        resolve(e.target.result);\n",
              "      };\n",
              "      reader.readAsArrayBuffer(file);\n",
              "    });\n",
              "    // Wait for the data to be ready.\n",
              "    let fileData = yield {\n",
              "      promise: fileDataPromise,\n",
              "      response: {\n",
              "        action: 'continue',\n",
              "      }\n",
              "    };\n",
              "\n",
              "    // Use a chunked sending to avoid message size limits. See b/62115660.\n",
              "    let position = 0;\n",
              "    do {\n",
              "      const length = Math.min(fileData.byteLength - position, MAX_PAYLOAD_SIZE);\n",
              "      const chunk = new Uint8Array(fileData, position, length);\n",
              "      position += length;\n",
              "\n",
              "      const base64 = btoa(String.fromCharCode.apply(null, chunk));\n",
              "      yield {\n",
              "        response: {\n",
              "          action: 'append',\n",
              "          file: file.name,\n",
              "          data: base64,\n",
              "        },\n",
              "      };\n",
              "\n",
              "      let percentDone = fileData.byteLength === 0 ?\n",
              "          100 :\n",
              "          Math.round((position / fileData.byteLength) * 100);\n",
              "      percent.textContent = `${percentDone}% done`;\n",
              "\n",
              "    } while (position < fileData.byteLength);\n",
              "  }\n",
              "\n",
              "  // All done.\n",
              "  yield {\n",
              "    response: {\n",
              "      action: 'complete',\n",
              "    }\n",
              "  };\n",
              "}\n",
              "\n",
              "scope.google = scope.google || {};\n",
              "scope.google.colab = scope.google.colab || {};\n",
              "scope.google.colab._files = {\n",
              "  _uploadFiles,\n",
              "  _uploadFilesContinue,\n",
              "};\n",
              "})(self);\n",
              "</script> "
            ]
          },
          "metadata": {}
        },
        {
          "output_type": "stream",
          "name": "stdout",
          "text": [
            "Saving Life Expectancy Data.csv to Life Expectancy Data.csv\n"
          ]
        }
      ]
    },
    {
      "cell_type": "code",
      "source": [
        "# Read the CSV file into a DataFrame for analysis\n",
        "\n",
        "df = pd.read_csv('Life Expectancy Data.csv')\n",
        "df.shape"
      ],
      "metadata": {
        "id": "RYrIiR2VbMjx",
        "colab": {
          "base_uri": "https://localhost:8080/"
        },
        "outputId": "661590ba-3a74-4d2b-a46d-ec0af88fd6a3"
      },
      "execution_count": null,
      "outputs": [
        {
          "output_type": "execute_result",
          "data": {
            "text/plain": [
              "(2864, 21)"
            ]
          },
          "metadata": {},
          "execution_count": 6
        }
      ]
    },
    {
      "cell_type": "markdown",
      "source": [
        "---"
      ],
      "metadata": {
        "id": "kYULpjTpauyx"
      }
    },
    {
      "cell_type": "markdown",
      "source": [
        "### 1. **Train Test Splitting** 🔀\n",
        "**Preparing for train test splitting:**\n",
        "* Creating our features and targets sets"
      ],
      "metadata": {
        "id": "aIH7Ke3k2IhF"
      }
    },
    {
      "cell_type": "code",
      "source": [
        "## We are going to make a list of all of our columns, and then remove price from that list - since we don't want to include the price in X\n",
        "\n",
        "feature_cols = list(df.columns) # The columns that we'll use as features\n",
        "feature_cols.remove('Life_expectancy') # The price is the target, not a feature! Hence its removal"
      ],
      "metadata": {
        "id": "irXlLeuymUqX"
      },
      "execution_count": null,
      "outputs": []
    },
    {
      "cell_type": "code",
      "source": [
        "X = df[feature_cols] # Declaring our features\n",
        "y = df['Life_expectancy'] # Setting our target"
      ],
      "metadata": {
        "id": "QgHyq9lJmUhX"
      },
      "execution_count": null,
      "outputs": []
    },
    {
      "cell_type": "markdown",
      "source": [
        "\n",
        "---"
      ],
      "metadata": {
        "id": "xoBPsSf-3vHx"
      }
    },
    {
      "cell_type": "markdown",
      "source": [
        "**Creating our __4 quadrants__:**\n",
        "* Both _training_ sets: `X_train`, `y_train`\n",
        "* Both _testing_ sets: `X_test`, `y_test`"
      ],
      "metadata": {
        "id": "hKbPZ5PD2LT8"
      }
    },
    {
      "cell_type": "code",
      "source": [
        "# Creating our 4 quadrants --> both training and both testing sets\n",
        "\n",
        "X_train, X_test, y_train, y_test = train_test_split(X, # Features set\n",
        "                                                   y, # Target set\n",
        "                                                   test_size=0.2, # % of data allocated to testing --> going with the standard 80-20 split\n",
        "                                                   random_state=43) # Adding a random state for sample reproducibility"
      ],
      "metadata": {
        "id": "_46uQeU7me6K"
      },
      "execution_count": null,
      "outputs": []
    },
    {
      "cell_type": "code",
      "source": [
        "X_train.head()"
      ],
      "metadata": {
        "colab": {
          "base_uri": "https://localhost:8080/",
          "height": 313
        },
        "id": "nlDfMDzOr-FU",
        "outputId": "fb922075-f09b-4ec2-dc19-caf79266b009"
      },
      "execution_count": null,
      "outputs": [
        {
          "output_type": "execute_result",
          "data": {
            "text/plain": [
              "               Country                         Region  Year  Infant_deaths  \\\n",
              "125   Papua New Guinea                        Oceania  2014           41.2   \n",
              "648          Indonesia                           Asia  2012           25.9   \n",
              "2729          Barbados  Central America and Caribbean  2000           13.7   \n",
              "1406           Lesotho                         Africa  2010           70.9   \n",
              "1634         Sri Lanka                           Asia  2003           13.0   \n",
              "\n",
              "      Under_five_deaths  Adult_mortality  Alcohol_consumption  Hepatitis_B  \\\n",
              "125                52.4         227.2180                 1.35           67   \n",
              "648                31.2         181.1225                 0.08           83   \n",
              "2729               15.1         127.4130                 7.31           93   \n",
              "1406               96.4         548.4965                 2.75           93   \n",
              "1634               15.1         137.4770                 1.69           86   \n",
              "\n",
              "      Measles   BMI  Polio  Diphtheria  Incidents_HIV  GDP_per_capita  \\\n",
              "125        65  25.4     43          73           0.40            2565   \n",
              "648        78  22.7     87          83           0.20            2981   \n",
              "2729       41  26.5     86          93           0.61           16277   \n",
              "1406       81  24.7     92          93          12.44             996   \n",
              "1634       90  21.8     98          99           0.02            2037   \n",
              "\n",
              "      Population_mln  Thinness_ten_nineteen_years  Thinness_five_nine_years  \\\n",
              "125             7.95                          1.3                       1.3   \n",
              "648           248.45                          1.5                       1.4   \n",
              "2729            0.27                          4.3                       4.2   \n",
              "1406            2.00                          7.2                       7.0   \n",
              "1634           19.22                         15.4                      15.5   \n",
              "\n",
              "      Schooling  Economy_status_Developed  Economy_status_Developing  \n",
              "125         4.3                         0                          1  \n",
              "648         7.6                         0                          1  \n",
              "2729        9.0                         0                          1  \n",
              "1406        5.6                         0                          1  \n",
              "1634       10.2                         0                          1  "
            ],
            "text/html": [
              "\n",
              "  <div id=\"df-d61d3718-b371-469b-8407-4d253882c5b9\" class=\"colab-df-container\">\n",
              "    <div>\n",
              "<style scoped>\n",
              "    .dataframe tbody tr th:only-of-type {\n",
              "        vertical-align: middle;\n",
              "    }\n",
              "\n",
              "    .dataframe tbody tr th {\n",
              "        vertical-align: top;\n",
              "    }\n",
              "\n",
              "    .dataframe thead th {\n",
              "        text-align: right;\n",
              "    }\n",
              "</style>\n",
              "<table border=\"1\" class=\"dataframe\">\n",
              "  <thead>\n",
              "    <tr style=\"text-align: right;\">\n",
              "      <th></th>\n",
              "      <th>Country</th>\n",
              "      <th>Region</th>\n",
              "      <th>Year</th>\n",
              "      <th>Infant_deaths</th>\n",
              "      <th>Under_five_deaths</th>\n",
              "      <th>Adult_mortality</th>\n",
              "      <th>Alcohol_consumption</th>\n",
              "      <th>Hepatitis_B</th>\n",
              "      <th>Measles</th>\n",
              "      <th>BMI</th>\n",
              "      <th>Polio</th>\n",
              "      <th>Diphtheria</th>\n",
              "      <th>Incidents_HIV</th>\n",
              "      <th>GDP_per_capita</th>\n",
              "      <th>Population_mln</th>\n",
              "      <th>Thinness_ten_nineteen_years</th>\n",
              "      <th>Thinness_five_nine_years</th>\n",
              "      <th>Schooling</th>\n",
              "      <th>Economy_status_Developed</th>\n",
              "      <th>Economy_status_Developing</th>\n",
              "    </tr>\n",
              "  </thead>\n",
              "  <tbody>\n",
              "    <tr>\n",
              "      <th>125</th>\n",
              "      <td>Papua New Guinea</td>\n",
              "      <td>Oceania</td>\n",
              "      <td>2014</td>\n",
              "      <td>41.2</td>\n",
              "      <td>52.4</td>\n",
              "      <td>227.2180</td>\n",
              "      <td>1.35</td>\n",
              "      <td>67</td>\n",
              "      <td>65</td>\n",
              "      <td>25.4</td>\n",
              "      <td>43</td>\n",
              "      <td>73</td>\n",
              "      <td>0.40</td>\n",
              "      <td>2565</td>\n",
              "      <td>7.95</td>\n",
              "      <td>1.3</td>\n",
              "      <td>1.3</td>\n",
              "      <td>4.3</td>\n",
              "      <td>0</td>\n",
              "      <td>1</td>\n",
              "    </tr>\n",
              "    <tr>\n",
              "      <th>648</th>\n",
              "      <td>Indonesia</td>\n",
              "      <td>Asia</td>\n",
              "      <td>2012</td>\n",
              "      <td>25.9</td>\n",
              "      <td>31.2</td>\n",
              "      <td>181.1225</td>\n",
              "      <td>0.08</td>\n",
              "      <td>83</td>\n",
              "      <td>78</td>\n",
              "      <td>22.7</td>\n",
              "      <td>87</td>\n",
              "      <td>83</td>\n",
              "      <td>0.20</td>\n",
              "      <td>2981</td>\n",
              "      <td>248.45</td>\n",
              "      <td>1.5</td>\n",
              "      <td>1.4</td>\n",
              "      <td>7.6</td>\n",
              "      <td>0</td>\n",
              "      <td>1</td>\n",
              "    </tr>\n",
              "    <tr>\n",
              "      <th>2729</th>\n",
              "      <td>Barbados</td>\n",
              "      <td>Central America and Caribbean</td>\n",
              "      <td>2000</td>\n",
              "      <td>13.7</td>\n",
              "      <td>15.1</td>\n",
              "      <td>127.4130</td>\n",
              "      <td>7.31</td>\n",
              "      <td>93</td>\n",
              "      <td>41</td>\n",
              "      <td>26.5</td>\n",
              "      <td>86</td>\n",
              "      <td>93</td>\n",
              "      <td>0.61</td>\n",
              "      <td>16277</td>\n",
              "      <td>0.27</td>\n",
              "      <td>4.3</td>\n",
              "      <td>4.2</td>\n",
              "      <td>9.0</td>\n",
              "      <td>0</td>\n",
              "      <td>1</td>\n",
              "    </tr>\n",
              "    <tr>\n",
              "      <th>1406</th>\n",
              "      <td>Lesotho</td>\n",
              "      <td>Africa</td>\n",
              "      <td>2010</td>\n",
              "      <td>70.9</td>\n",
              "      <td>96.4</td>\n",
              "      <td>548.4965</td>\n",
              "      <td>2.75</td>\n",
              "      <td>93</td>\n",
              "      <td>81</td>\n",
              "      <td>24.7</td>\n",
              "      <td>92</td>\n",
              "      <td>93</td>\n",
              "      <td>12.44</td>\n",
              "      <td>996</td>\n",
              "      <td>2.00</td>\n",
              "      <td>7.2</td>\n",
              "      <td>7.0</td>\n",
              "      <td>5.6</td>\n",
              "      <td>0</td>\n",
              "      <td>1</td>\n",
              "    </tr>\n",
              "    <tr>\n",
              "      <th>1634</th>\n",
              "      <td>Sri Lanka</td>\n",
              "      <td>Asia</td>\n",
              "      <td>2003</td>\n",
              "      <td>13.0</td>\n",
              "      <td>15.1</td>\n",
              "      <td>137.4770</td>\n",
              "      <td>1.69</td>\n",
              "      <td>86</td>\n",
              "      <td>90</td>\n",
              "      <td>21.8</td>\n",
              "      <td>98</td>\n",
              "      <td>99</td>\n",
              "      <td>0.02</td>\n",
              "      <td>2037</td>\n",
              "      <td>19.22</td>\n",
              "      <td>15.4</td>\n",
              "      <td>15.5</td>\n",
              "      <td>10.2</td>\n",
              "      <td>0</td>\n",
              "      <td>1</td>\n",
              "    </tr>\n",
              "  </tbody>\n",
              "</table>\n",
              "</div>\n",
              "    <div class=\"colab-df-buttons\">\n",
              "\n",
              "  <div class=\"colab-df-container\">\n",
              "    <button class=\"colab-df-convert\" onclick=\"convertToInteractive('df-d61d3718-b371-469b-8407-4d253882c5b9')\"\n",
              "            title=\"Convert this dataframe to an interactive table.\"\n",
              "            style=\"display:none;\">\n",
              "\n",
              "  <svg xmlns=\"http://www.w3.org/2000/svg\" height=\"24px\" viewBox=\"0 -960 960 960\">\n",
              "    <path d=\"M120-120v-720h720v720H120Zm60-500h600v-160H180v160Zm220 220h160v-160H400v160Zm0 220h160v-160H400v160ZM180-400h160v-160H180v160Zm440 0h160v-160H620v160ZM180-180h160v-160H180v160Zm440 0h160v-160H620v160Z\"/>\n",
              "  </svg>\n",
              "    </button>\n",
              "\n",
              "  <style>\n",
              "    .colab-df-container {\n",
              "      display:flex;\n",
              "      gap: 12px;\n",
              "    }\n",
              "\n",
              "    .colab-df-convert {\n",
              "      background-color: #E8F0FE;\n",
              "      border: none;\n",
              "      border-radius: 50%;\n",
              "      cursor: pointer;\n",
              "      display: none;\n",
              "      fill: #1967D2;\n",
              "      height: 32px;\n",
              "      padding: 0 0 0 0;\n",
              "      width: 32px;\n",
              "    }\n",
              "\n",
              "    .colab-df-convert:hover {\n",
              "      background-color: #E2EBFA;\n",
              "      box-shadow: 0px 1px 2px rgba(60, 64, 67, 0.3), 0px 1px 3px 1px rgba(60, 64, 67, 0.15);\n",
              "      fill: #174EA6;\n",
              "    }\n",
              "\n",
              "    .colab-df-buttons div {\n",
              "      margin-bottom: 4px;\n",
              "    }\n",
              "\n",
              "    [theme=dark] .colab-df-convert {\n",
              "      background-color: #3B4455;\n",
              "      fill: #D2E3FC;\n",
              "    }\n",
              "\n",
              "    [theme=dark] .colab-df-convert:hover {\n",
              "      background-color: #434B5C;\n",
              "      box-shadow: 0px 1px 3px 1px rgba(0, 0, 0, 0.15);\n",
              "      filter: drop-shadow(0px 1px 2px rgba(0, 0, 0, 0.3));\n",
              "      fill: #FFFFFF;\n",
              "    }\n",
              "  </style>\n",
              "\n",
              "    <script>\n",
              "      const buttonEl =\n",
              "        document.querySelector('#df-d61d3718-b371-469b-8407-4d253882c5b9 button.colab-df-convert');\n",
              "      buttonEl.style.display =\n",
              "        google.colab.kernel.accessAllowed ? 'block' : 'none';\n",
              "\n",
              "      async function convertToInteractive(key) {\n",
              "        const element = document.querySelector('#df-d61d3718-b371-469b-8407-4d253882c5b9');\n",
              "        const dataTable =\n",
              "          await google.colab.kernel.invokeFunction('convertToInteractive',\n",
              "                                                    [key], {});\n",
              "        if (!dataTable) return;\n",
              "\n",
              "        const docLinkHtml = 'Like what you see? Visit the ' +\n",
              "          '<a target=\"_blank\" href=https://colab.research.google.com/notebooks/data_table.ipynb>data table notebook</a>'\n",
              "          + ' to learn more about interactive tables.';\n",
              "        element.innerHTML = '';\n",
              "        dataTable['output_type'] = 'display_data';\n",
              "        await google.colab.output.renderOutput(dataTable, element);\n",
              "        const docLink = document.createElement('div');\n",
              "        docLink.innerHTML = docLinkHtml;\n",
              "        element.appendChild(docLink);\n",
              "      }\n",
              "    </script>\n",
              "  </div>\n",
              "\n",
              "\n",
              "<div id=\"df-ac46614d-279b-4a7d-a23a-051609f17288\">\n",
              "  <button class=\"colab-df-quickchart\" onclick=\"quickchart('df-ac46614d-279b-4a7d-a23a-051609f17288')\"\n",
              "            title=\"Suggest charts\"\n",
              "            style=\"display:none;\">\n",
              "\n",
              "<svg xmlns=\"http://www.w3.org/2000/svg\" height=\"24px\"viewBox=\"0 0 24 24\"\n",
              "     width=\"24px\">\n",
              "    <g>\n",
              "        <path d=\"M19 3H5c-1.1 0-2 .9-2 2v14c0 1.1.9 2 2 2h14c1.1 0 2-.9 2-2V5c0-1.1-.9-2-2-2zM9 17H7v-7h2v7zm4 0h-2V7h2v10zm4 0h-2v-4h2v4z\"/>\n",
              "    </g>\n",
              "</svg>\n",
              "  </button>\n",
              "\n",
              "<style>\n",
              "  .colab-df-quickchart {\n",
              "      --bg-color: #E8F0FE;\n",
              "      --fill-color: #1967D2;\n",
              "      --hover-bg-color: #E2EBFA;\n",
              "      --hover-fill-color: #174EA6;\n",
              "      --disabled-fill-color: #AAA;\n",
              "      --disabled-bg-color: #DDD;\n",
              "  }\n",
              "\n",
              "  [theme=dark] .colab-df-quickchart {\n",
              "      --bg-color: #3B4455;\n",
              "      --fill-color: #D2E3FC;\n",
              "      --hover-bg-color: #434B5C;\n",
              "      --hover-fill-color: #FFFFFF;\n",
              "      --disabled-bg-color: #3B4455;\n",
              "      --disabled-fill-color: #666;\n",
              "  }\n",
              "\n",
              "  .colab-df-quickchart {\n",
              "    background-color: var(--bg-color);\n",
              "    border: none;\n",
              "    border-radius: 50%;\n",
              "    cursor: pointer;\n",
              "    display: none;\n",
              "    fill: var(--fill-color);\n",
              "    height: 32px;\n",
              "    padding: 0;\n",
              "    width: 32px;\n",
              "  }\n",
              "\n",
              "  .colab-df-quickchart:hover {\n",
              "    background-color: var(--hover-bg-color);\n",
              "    box-shadow: 0 1px 2px rgba(60, 64, 67, 0.3), 0 1px 3px 1px rgba(60, 64, 67, 0.15);\n",
              "    fill: var(--button-hover-fill-color);\n",
              "  }\n",
              "\n",
              "  .colab-df-quickchart-complete:disabled,\n",
              "  .colab-df-quickchart-complete:disabled:hover {\n",
              "    background-color: var(--disabled-bg-color);\n",
              "    fill: var(--disabled-fill-color);\n",
              "    box-shadow: none;\n",
              "  }\n",
              "\n",
              "  .colab-df-spinner {\n",
              "    border: 2px solid var(--fill-color);\n",
              "    border-color: transparent;\n",
              "    border-bottom-color: var(--fill-color);\n",
              "    animation:\n",
              "      spin 1s steps(1) infinite;\n",
              "  }\n",
              "\n",
              "  @keyframes spin {\n",
              "    0% {\n",
              "      border-color: transparent;\n",
              "      border-bottom-color: var(--fill-color);\n",
              "      border-left-color: var(--fill-color);\n",
              "    }\n",
              "    20% {\n",
              "      border-color: transparent;\n",
              "      border-left-color: var(--fill-color);\n",
              "      border-top-color: var(--fill-color);\n",
              "    }\n",
              "    30% {\n",
              "      border-color: transparent;\n",
              "      border-left-color: var(--fill-color);\n",
              "      border-top-color: var(--fill-color);\n",
              "      border-right-color: var(--fill-color);\n",
              "    }\n",
              "    40% {\n",
              "      border-color: transparent;\n",
              "      border-right-color: var(--fill-color);\n",
              "      border-top-color: var(--fill-color);\n",
              "    }\n",
              "    60% {\n",
              "      border-color: transparent;\n",
              "      border-right-color: var(--fill-color);\n",
              "    }\n",
              "    80% {\n",
              "      border-color: transparent;\n",
              "      border-right-color: var(--fill-color);\n",
              "      border-bottom-color: var(--fill-color);\n",
              "    }\n",
              "    90% {\n",
              "      border-color: transparent;\n",
              "      border-bottom-color: var(--fill-color);\n",
              "    }\n",
              "  }\n",
              "</style>\n",
              "\n",
              "  <script>\n",
              "    async function quickchart(key) {\n",
              "      const quickchartButtonEl =\n",
              "        document.querySelector('#' + key + ' button');\n",
              "      quickchartButtonEl.disabled = true;  // To prevent multiple clicks.\n",
              "      quickchartButtonEl.classList.add('colab-df-spinner');\n",
              "      try {\n",
              "        const charts = await google.colab.kernel.invokeFunction(\n",
              "            'suggestCharts', [key], {});\n",
              "      } catch (error) {\n",
              "        console.error('Error during call to suggestCharts:', error);\n",
              "      }\n",
              "      quickchartButtonEl.classList.remove('colab-df-spinner');\n",
              "      quickchartButtonEl.classList.add('colab-df-quickchart-complete');\n",
              "    }\n",
              "    (() => {\n",
              "      let quickchartButtonEl =\n",
              "        document.querySelector('#df-ac46614d-279b-4a7d-a23a-051609f17288 button');\n",
              "      quickchartButtonEl.style.display =\n",
              "        google.colab.kernel.accessAllowed ? 'block' : 'none';\n",
              "    })();\n",
              "  </script>\n",
              "</div>\n",
              "\n",
              "    </div>\n",
              "  </div>\n"
            ],
            "application/vnd.google.colaboratory.intrinsic+json": {
              "type": "dataframe",
              "variable_name": "X_train",
              "summary": "{\n  \"name\": \"X_train\",\n  \"rows\": 2291,\n  \"fields\": [\n    {\n      \"column\": \"Country\",\n      \"properties\": {\n        \"dtype\": \"category\",\n        \"num_unique_values\": 179,\n        \"samples\": [\n          \"Ukraine\",\n          \"Russian Federation\",\n          \"Greece\"\n        ],\n        \"semantic_type\": \"\",\n        \"description\": \"\"\n      }\n    },\n    {\n      \"column\": \"Region\",\n      \"properties\": {\n        \"dtype\": \"category\",\n        \"num_unique_values\": 9,\n        \"samples\": [\n          \"North America\",\n          \"Asia\",\n          \"Rest of Europe\"\n        ],\n        \"semantic_type\": \"\",\n        \"description\": \"\"\n      }\n    },\n    {\n      \"column\": \"Year\",\n      \"properties\": {\n        \"dtype\": \"number\",\n        \"std\": 4,\n        \"min\": 2000,\n        \"max\": 2015,\n        \"num_unique_values\": 16,\n        \"samples\": [\n          2014,\n          2012,\n          2004\n        ],\n        \"semantic_type\": \"\",\n        \"description\": \"\"\n      }\n    },\n    {\n      \"column\": \"Infant_deaths\",\n      \"properties\": {\n        \"dtype\": \"number\",\n        \"std\": 27.284381790662415,\n        \"min\": 1.8,\n        \"max\": 135.6,\n        \"num_unique_values\": 772,\n        \"samples\": [\n          53.1,\n          81.7,\n          36.9\n        ],\n        \"semantic_type\": \"\",\n        \"description\": \"\"\n      }\n    },\n    {\n      \"column\": \"Under_five_deaths\",\n      \"properties\": {\n        \"dtype\": \"number\",\n        \"std\": 44.360980599117006,\n        \"min\": 2.3,\n        \"max\": 224.9,\n        \"num_unique_values\": 932,\n        \"samples\": [\n          68.0,\n          69.3,\n          6.5\n        ],\n        \"semantic_type\": \"\",\n        \"description\": \"\"\n      }\n    },\n    {\n      \"column\": \"Adult_mortality\",\n      \"properties\": {\n        \"dtype\": \"number\",\n        \"std\": 113.41538024292973,\n        \"min\": 49.998,\n        \"max\": 703.0,\n        \"num_unique_values\": 2281,\n        \"samples\": [\n          281.6355,\n          67.614,\n          111.937\n        ],\n        \"semantic_type\": \"\",\n        \"description\": \"\"\n      }\n    },\n    {\n      \"column\": \"Alcohol_consumption\",\n      \"properties\": {\n        \"dtype\": \"number\",\n        \"std\": 3.9785066261961846,\n        \"min\": 0.0,\n        \"max\": 17.87,\n        \"num_unique_values\": 1058,\n        \"samples\": [\n          3.06,\n          3.51,\n          0.96\n        ],\n        \"semantic_type\": \"\",\n        \"description\": \"\"\n      }\n    },\n    {\n      \"column\": \"Hepatitis_B\",\n      \"properties\": {\n        \"dtype\": \"number\",\n        \"std\": 15,\n        \"min\": 12,\n        \"max\": 99,\n        \"num_unique_values\": 78,\n        \"samples\": [\n          65,\n          67,\n          63\n        ],\n        \"semantic_type\": \"\",\n        \"description\": \"\"\n      }\n    },\n    {\n      \"column\": \"Measles\",\n      \"properties\": {\n        \"dtype\": \"number\",\n        \"std\": 18,\n        \"min\": 10,\n        \"max\": 99,\n        \"num_unique_values\": 85,\n        \"samples\": [\n          61,\n          65,\n          49\n        ],\n        \"semantic_type\": \"\",\n        \"description\": \"\"\n      }\n    },\n    {\n      \"column\": \"BMI\",\n      \"properties\": {\n        \"dtype\": \"number\",\n        \"std\": 2.193025878232409,\n        \"min\": 19.8,\n        \"max\": 32.1,\n        \"num_unique_values\": 120,\n        \"samples\": [\n          27.5,\n          22.2,\n          21.8\n        ],\n        \"semantic_type\": \"\",\n        \"description\": \"\"\n      }\n    },\n    {\n      \"column\": \"Polio\",\n      \"properties\": {\n        \"dtype\": \"number\",\n        \"std\": 15,\n        \"min\": 8,\n        \"max\": 99,\n        \"num_unique_values\": 75,\n        \"samples\": [\n          98,\n          14,\n          99\n        ],\n        \"semantic_type\": \"\",\n        \"description\": \"\"\n      }\n    },\n    {\n      \"column\": \"Diphtheria\",\n      \"properties\": {\n        \"dtype\": \"number\",\n        \"std\": 15,\n        \"min\": 21,\n        \"max\": 99,\n        \"num_unique_values\": 77,\n        \"samples\": [\n          51,\n          45,\n          64\n        ],\n        \"semantic_type\": \"\",\n        \"description\": \"\"\n      }\n    },\n    {\n      \"column\": \"Incidents_HIV\",\n      \"properties\": {\n        \"dtype\": \"number\",\n        \"std\": 2.25056271365212,\n        \"min\": 0.01,\n        \"max\": 20.8,\n        \"num_unique_values\": 343,\n        \"samples\": [\n          2.48,\n          3.56,\n          0.56\n        ],\n        \"semantic_type\": \"\",\n        \"description\": \"\"\n      }\n    },\n    {\n      \"column\": \"GDP_per_capita\",\n      \"properties\": {\n        \"dtype\": \"number\",\n        \"std\": 16641,\n        \"min\": 174,\n        \"max\": 110095,\n        \"num_unique_values\": 2096,\n        \"samples\": [\n          2411,\n          1585,\n          5121\n        ],\n        \"semantic_type\": \"\",\n        \"description\": \"\"\n      }\n    },\n    {\n      \"column\": \"Population_mln\",\n      \"properties\": {\n        \"dtype\": \"number\",\n        \"std\": 144.73303045735963,\n        \"min\": 0.08,\n        \"max\": 1379.86,\n        \"num_unique_values\": 1545,\n        \"samples\": [\n          143.52,\n          10.06,\n          62.45\n        ],\n        \"semantic_type\": \"\",\n        \"description\": \"\"\n      }\n    },\n    {\n      \"column\": \"Thinness_ten_nineteen_years\",\n      \"properties\": {\n        \"dtype\": \"number\",\n        \"std\": 4.408034113616507,\n        \"min\": 0.1,\n        \"max\": 27.7,\n        \"num_unique_values\": 187,\n        \"samples\": [\n          27.3,\n          7.9,\n          0.3\n        ],\n        \"semantic_type\": \"\",\n        \"description\": \"\"\n      }\n    },\n    {\n      \"column\": \"Thinness_five_nine_years\",\n      \"properties\": {\n        \"dtype\": \"number\",\n        \"std\": 4.512879698527549,\n        \"min\": 0.1,\n        \"max\": 28.6,\n        \"num_unique_values\": 197,\n        \"samples\": [\n          28.6,\n          19.6,\n          3.8\n        ],\n        \"semantic_type\": \"\",\n        \"description\": \"\"\n      }\n    },\n    {\n      \"column\": \"Schooling\",\n      \"properties\": {\n        \"dtype\": \"number\",\n        \"std\": 3.186953995201024,\n        \"min\": 1.1,\n        \"max\": 14.1,\n        \"num_unique_values\": 130,\n        \"samples\": [\n          12.2,\n          8.3,\n          4.1\n        ],\n        \"semantic_type\": \"\",\n        \"description\": \"\"\n      }\n    },\n    {\n      \"column\": \"Economy_status_Developed\",\n      \"properties\": {\n        \"dtype\": \"number\",\n        \"std\": 0,\n        \"min\": 0,\n        \"max\": 1,\n        \"num_unique_values\": 2,\n        \"samples\": [\n          1,\n          0\n        ],\n        \"semantic_type\": \"\",\n        \"description\": \"\"\n      }\n    },\n    {\n      \"column\": \"Economy_status_Developing\",\n      \"properties\": {\n        \"dtype\": \"number\",\n        \"std\": 0,\n        \"min\": 0,\n        \"max\": 1,\n        \"num_unique_values\": 2,\n        \"samples\": [\n          0,\n          1\n        ],\n        \"semantic_type\": \"\",\n        \"description\": \"\"\n      }\n    }\n  ]\n}"
            }
          },
          "metadata": {},
          "execution_count": 10
        }
      ]
    },
    {
      "cell_type": "markdown",
      "source": [
        ">Now that we've effectively split our training and testing sets, we conduct __sanity checks__ to ensure they have been created properly with <u>no apparent errors</u>"
      ],
      "metadata": {
        "id": "rcVpcChbsKDU"
      }
    },
    {
      "cell_type": "code",
      "source": [
        "# Checking the indices match between both training and both testing sets\n",
        "\n",
        "print(all(X_train.index == y_train.index))\n",
        "print(all(X_test.index == y_test.index))\n",
        "\n",
        "# Checking the number of observations match between both training and both testing sets\n",
        "\n",
        "print(X_train.shape[0] == y_train.shape[0])\n",
        "print(X_test.shape[0] == y_test.shape[0])"
      ],
      "metadata": {
        "colab": {
          "base_uri": "https://localhost:8080/"
        },
        "id": "JPKhXczJsBPk",
        "outputId": "f3bea035-8ff2-45ab-98c4-38b796b75bc2"
      },
      "execution_count": null,
      "outputs": [
        {
          "output_type": "stream",
          "name": "stdout",
          "text": [
            "True\n",
            "True\n",
            "True\n",
            "True\n"
          ]
        }
      ]
    },
    {
      "cell_type": "markdown",
      "source": [
        "### 2. **Feature Engineering**"
      ],
      "metadata": {
        "id": "FoVAcdaRsTxt"
      }
    },
    {
      "cell_type": "markdown",
      "source": [
        ">* Defining a function for feature engineering to be applied to our training sets\n",
        ">* Applying the function, creating our feature engineered training set, and storing it in __`X_train_fe`__"
      ],
      "metadata": {
        "id": "faQifq3vsYHr"
      }
    },
    {
      "cell_type": "code",
      "source": [
        "def feature_eng(df):\n",
        "    df_fe = df.copy()\n",
        "    df_fe.insert(loc=0, column='const', value=1)\n",
        "    df_fe_scale = df_fe[['GDP_per_capita', 'Population_mln', 'Adult_mortality', 'Infant_deaths', 'BMI', 'Under_five_deaths']] # Scaling the numerical columns to make our model more robust\n",
        "    rob = RobustScaler() ## Initialise scaler\n",
        "    rob.fit(df_fe_scale) ## Fit the data\n",
        "\n",
        "    ## Transform the data according to the scaler\n",
        "    ## Save it as a new dataframe called df_fe_scale_rob\n",
        "    df_fe_scale_rob = rob.transform(df_fe_scale)\n",
        "    df_fe[['GDP_per_capita', 'Population_mln', 'Adult_mortality', 'Infant_deaths', 'BMI', 'Under_five_deaths']] = df_fe_scale_rob # Effectively applying the scaling to the columns in our dataframe\n",
        "    return df_fe # Returning the feature engineered version of our df"
      ],
      "metadata": {
        "id": "jy0JakW1so2n"
      },
      "execution_count": null,
      "outputs": []
    },
    {
      "cell_type": "code",
      "source": [
        "X_train_fe = feature_eng(X_train)"
      ],
      "metadata": {
        "id": "K-D4ufacs1v7"
      },
      "execution_count": null,
      "outputs": []
    },
    {
      "cell_type": "markdown",
      "source": [
        ">Looking at __`X_train_fe`__ and making sure all changes have been correctly executed:\n",
        ">* Creating a constant column\n",
        ">* Scaling numerical ones"
      ],
      "metadata": {
        "id": "E5R25829s4cG"
      }
    },
    {
      "cell_type": "code",
      "source": [
        "X_train_fe.head()"
      ],
      "metadata": {
        "colab": {
          "base_uri": "https://localhost:8080/",
          "height": 342
        },
        "id": "gBXzAGH0uwa3",
        "outputId": "286ce185-328f-45ac-c3b5-a882f12e0165"
      },
      "execution_count": null,
      "outputs": [
        {
          "output_type": "execute_result",
          "data": {
            "text/plain": [
              "      const           Country                         Region  Year  \\\n",
              "125       1  Papua New Guinea                        Oceania  2014   \n",
              "648       1         Indonesia                           Asia  2012   \n",
              "2729      1          Barbados  Central America and Caribbean  2000   \n",
              "1406      1           Lesotho                         Africa  2010   \n",
              "1634      1         Sri Lanka                           Asia  2003   \n",
              "\n",
              "      Infant_deaths  Under_five_deaths  Adult_mortality  Alcohol_consumption  \\\n",
              "125        0.551461           0.525847         0.456962                 1.35   \n",
              "648        0.162643           0.147950         0.123047                 0.08   \n",
              "2729      -0.147395          -0.139037        -0.266025                 7.31   \n",
              "1406       1.306226           1.310160         2.784304                 2.75   \n",
              "1634      -0.165184          -0.139037        -0.193121                 1.69   \n",
              "\n",
              "      Hepatitis_B  Measles  ...  Polio  Diphtheria  Incidents_HIV  \\\n",
              "125            67       65  ...     43          73           0.40   \n",
              "648            83       78  ...     87          83           0.20   \n",
              "2729           93       41  ...     86          93           0.61   \n",
              "1406           93       81  ...     92          93          12.44   \n",
              "1634           86       90  ...     98          99           0.02   \n",
              "\n",
              "      GDP_per_capita  Population_mln  Thinness_ten_nineteen_years  \\\n",
              "125        -0.155859        0.005297                          1.3   \n",
              "648        -0.116420       11.587286                          1.5   \n",
              "2729        1.144103       -0.364556                          4.3   \n",
              "1406       -0.304608       -0.281242                          7.2   \n",
              "1634       -0.205916        0.548038                         15.4   \n",
              "\n",
              "      Thinness_five_nine_years  Schooling  Economy_status_Developed  \\\n",
              "125                        1.3        4.3                         0   \n",
              "648                        1.4        7.6                         0   \n",
              "2729                       4.2        9.0                         0   \n",
              "1406                       7.0        5.6                         0   \n",
              "1634                      15.5       10.2                         0   \n",
              "\n",
              "      Economy_status_Developing  \n",
              "125                           1  \n",
              "648                           1  \n",
              "2729                          1  \n",
              "1406                          1  \n",
              "1634                          1  \n",
              "\n",
              "[5 rows x 21 columns]"
            ],
            "text/html": [
              "\n",
              "  <div id=\"df-9e8a1bd5-fd8d-4b2d-bd28-27026316586d\" class=\"colab-df-container\">\n",
              "    <div>\n",
              "<style scoped>\n",
              "    .dataframe tbody tr th:only-of-type {\n",
              "        vertical-align: middle;\n",
              "    }\n",
              "\n",
              "    .dataframe tbody tr th {\n",
              "        vertical-align: top;\n",
              "    }\n",
              "\n",
              "    .dataframe thead th {\n",
              "        text-align: right;\n",
              "    }\n",
              "</style>\n",
              "<table border=\"1\" class=\"dataframe\">\n",
              "  <thead>\n",
              "    <tr style=\"text-align: right;\">\n",
              "      <th></th>\n",
              "      <th>const</th>\n",
              "      <th>Country</th>\n",
              "      <th>Region</th>\n",
              "      <th>Year</th>\n",
              "      <th>Infant_deaths</th>\n",
              "      <th>Under_five_deaths</th>\n",
              "      <th>Adult_mortality</th>\n",
              "      <th>Alcohol_consumption</th>\n",
              "      <th>Hepatitis_B</th>\n",
              "      <th>Measles</th>\n",
              "      <th>...</th>\n",
              "      <th>Polio</th>\n",
              "      <th>Diphtheria</th>\n",
              "      <th>Incidents_HIV</th>\n",
              "      <th>GDP_per_capita</th>\n",
              "      <th>Population_mln</th>\n",
              "      <th>Thinness_ten_nineteen_years</th>\n",
              "      <th>Thinness_five_nine_years</th>\n",
              "      <th>Schooling</th>\n",
              "      <th>Economy_status_Developed</th>\n",
              "      <th>Economy_status_Developing</th>\n",
              "    </tr>\n",
              "  </thead>\n",
              "  <tbody>\n",
              "    <tr>\n",
              "      <th>125</th>\n",
              "      <td>1</td>\n",
              "      <td>Papua New Guinea</td>\n",
              "      <td>Oceania</td>\n",
              "      <td>2014</td>\n",
              "      <td>0.551461</td>\n",
              "      <td>0.525847</td>\n",
              "      <td>0.456962</td>\n",
              "      <td>1.35</td>\n",
              "      <td>67</td>\n",
              "      <td>65</td>\n",
              "      <td>...</td>\n",
              "      <td>43</td>\n",
              "      <td>73</td>\n",
              "      <td>0.40</td>\n",
              "      <td>-0.155859</td>\n",
              "      <td>0.005297</td>\n",
              "      <td>1.3</td>\n",
              "      <td>1.3</td>\n",
              "      <td>4.3</td>\n",
              "      <td>0</td>\n",
              "      <td>1</td>\n",
              "    </tr>\n",
              "    <tr>\n",
              "      <th>648</th>\n",
              "      <td>1</td>\n",
              "      <td>Indonesia</td>\n",
              "      <td>Asia</td>\n",
              "      <td>2012</td>\n",
              "      <td>0.162643</td>\n",
              "      <td>0.147950</td>\n",
              "      <td>0.123047</td>\n",
              "      <td>0.08</td>\n",
              "      <td>83</td>\n",
              "      <td>78</td>\n",
              "      <td>...</td>\n",
              "      <td>87</td>\n",
              "      <td>83</td>\n",
              "      <td>0.20</td>\n",
              "      <td>-0.116420</td>\n",
              "      <td>11.587286</td>\n",
              "      <td>1.5</td>\n",
              "      <td>1.4</td>\n",
              "      <td>7.6</td>\n",
              "      <td>0</td>\n",
              "      <td>1</td>\n",
              "    </tr>\n",
              "    <tr>\n",
              "      <th>2729</th>\n",
              "      <td>1</td>\n",
              "      <td>Barbados</td>\n",
              "      <td>Central America and Caribbean</td>\n",
              "      <td>2000</td>\n",
              "      <td>-0.147395</td>\n",
              "      <td>-0.139037</td>\n",
              "      <td>-0.266025</td>\n",
              "      <td>7.31</td>\n",
              "      <td>93</td>\n",
              "      <td>41</td>\n",
              "      <td>...</td>\n",
              "      <td>86</td>\n",
              "      <td>93</td>\n",
              "      <td>0.61</td>\n",
              "      <td>1.144103</td>\n",
              "      <td>-0.364556</td>\n",
              "      <td>4.3</td>\n",
              "      <td>4.2</td>\n",
              "      <td>9.0</td>\n",
              "      <td>0</td>\n",
              "      <td>1</td>\n",
              "    </tr>\n",
              "    <tr>\n",
              "      <th>1406</th>\n",
              "      <td>1</td>\n",
              "      <td>Lesotho</td>\n",
              "      <td>Africa</td>\n",
              "      <td>2010</td>\n",
              "      <td>1.306226</td>\n",
              "      <td>1.310160</td>\n",
              "      <td>2.784304</td>\n",
              "      <td>2.75</td>\n",
              "      <td>93</td>\n",
              "      <td>81</td>\n",
              "      <td>...</td>\n",
              "      <td>92</td>\n",
              "      <td>93</td>\n",
              "      <td>12.44</td>\n",
              "      <td>-0.304608</td>\n",
              "      <td>-0.281242</td>\n",
              "      <td>7.2</td>\n",
              "      <td>7.0</td>\n",
              "      <td>5.6</td>\n",
              "      <td>0</td>\n",
              "      <td>1</td>\n",
              "    </tr>\n",
              "    <tr>\n",
              "      <th>1634</th>\n",
              "      <td>1</td>\n",
              "      <td>Sri Lanka</td>\n",
              "      <td>Asia</td>\n",
              "      <td>2003</td>\n",
              "      <td>-0.165184</td>\n",
              "      <td>-0.139037</td>\n",
              "      <td>-0.193121</td>\n",
              "      <td>1.69</td>\n",
              "      <td>86</td>\n",
              "      <td>90</td>\n",
              "      <td>...</td>\n",
              "      <td>98</td>\n",
              "      <td>99</td>\n",
              "      <td>0.02</td>\n",
              "      <td>-0.205916</td>\n",
              "      <td>0.548038</td>\n",
              "      <td>15.4</td>\n",
              "      <td>15.5</td>\n",
              "      <td>10.2</td>\n",
              "      <td>0</td>\n",
              "      <td>1</td>\n",
              "    </tr>\n",
              "  </tbody>\n",
              "</table>\n",
              "<p>5 rows × 21 columns</p>\n",
              "</div>\n",
              "    <div class=\"colab-df-buttons\">\n",
              "\n",
              "  <div class=\"colab-df-container\">\n",
              "    <button class=\"colab-df-convert\" onclick=\"convertToInteractive('df-9e8a1bd5-fd8d-4b2d-bd28-27026316586d')\"\n",
              "            title=\"Convert this dataframe to an interactive table.\"\n",
              "            style=\"display:none;\">\n",
              "\n",
              "  <svg xmlns=\"http://www.w3.org/2000/svg\" height=\"24px\" viewBox=\"0 -960 960 960\">\n",
              "    <path d=\"M120-120v-720h720v720H120Zm60-500h600v-160H180v160Zm220 220h160v-160H400v160Zm0 220h160v-160H400v160ZM180-400h160v-160H180v160Zm440 0h160v-160H620v160ZM180-180h160v-160H180v160Zm440 0h160v-160H620v160Z\"/>\n",
              "  </svg>\n",
              "    </button>\n",
              "\n",
              "  <style>\n",
              "    .colab-df-container {\n",
              "      display:flex;\n",
              "      gap: 12px;\n",
              "    }\n",
              "\n",
              "    .colab-df-convert {\n",
              "      background-color: #E8F0FE;\n",
              "      border: none;\n",
              "      border-radius: 50%;\n",
              "      cursor: pointer;\n",
              "      display: none;\n",
              "      fill: #1967D2;\n",
              "      height: 32px;\n",
              "      padding: 0 0 0 0;\n",
              "      width: 32px;\n",
              "    }\n",
              "\n",
              "    .colab-df-convert:hover {\n",
              "      background-color: #E2EBFA;\n",
              "      box-shadow: 0px 1px 2px rgba(60, 64, 67, 0.3), 0px 1px 3px 1px rgba(60, 64, 67, 0.15);\n",
              "      fill: #174EA6;\n",
              "    }\n",
              "\n",
              "    .colab-df-buttons div {\n",
              "      margin-bottom: 4px;\n",
              "    }\n",
              "\n",
              "    [theme=dark] .colab-df-convert {\n",
              "      background-color: #3B4455;\n",
              "      fill: #D2E3FC;\n",
              "    }\n",
              "\n",
              "    [theme=dark] .colab-df-convert:hover {\n",
              "      background-color: #434B5C;\n",
              "      box-shadow: 0px 1px 3px 1px rgba(0, 0, 0, 0.15);\n",
              "      filter: drop-shadow(0px 1px 2px rgba(0, 0, 0, 0.3));\n",
              "      fill: #FFFFFF;\n",
              "    }\n",
              "  </style>\n",
              "\n",
              "    <script>\n",
              "      const buttonEl =\n",
              "        document.querySelector('#df-9e8a1bd5-fd8d-4b2d-bd28-27026316586d button.colab-df-convert');\n",
              "      buttonEl.style.display =\n",
              "        google.colab.kernel.accessAllowed ? 'block' : 'none';\n",
              "\n",
              "      async function convertToInteractive(key) {\n",
              "        const element = document.querySelector('#df-9e8a1bd5-fd8d-4b2d-bd28-27026316586d');\n",
              "        const dataTable =\n",
              "          await google.colab.kernel.invokeFunction('convertToInteractive',\n",
              "                                                    [key], {});\n",
              "        if (!dataTable) return;\n",
              "\n",
              "        const docLinkHtml = 'Like what you see? Visit the ' +\n",
              "          '<a target=\"_blank\" href=https://colab.research.google.com/notebooks/data_table.ipynb>data table notebook</a>'\n",
              "          + ' to learn more about interactive tables.';\n",
              "        element.innerHTML = '';\n",
              "        dataTable['output_type'] = 'display_data';\n",
              "        await google.colab.output.renderOutput(dataTable, element);\n",
              "        const docLink = document.createElement('div');\n",
              "        docLink.innerHTML = docLinkHtml;\n",
              "        element.appendChild(docLink);\n",
              "      }\n",
              "    </script>\n",
              "  </div>\n",
              "\n",
              "\n",
              "<div id=\"df-c08a9f44-9794-41fc-8188-fcd38b9ad376\">\n",
              "  <button class=\"colab-df-quickchart\" onclick=\"quickchart('df-c08a9f44-9794-41fc-8188-fcd38b9ad376')\"\n",
              "            title=\"Suggest charts\"\n",
              "            style=\"display:none;\">\n",
              "\n",
              "<svg xmlns=\"http://www.w3.org/2000/svg\" height=\"24px\"viewBox=\"0 0 24 24\"\n",
              "     width=\"24px\">\n",
              "    <g>\n",
              "        <path d=\"M19 3H5c-1.1 0-2 .9-2 2v14c0 1.1.9 2 2 2h14c1.1 0 2-.9 2-2V5c0-1.1-.9-2-2-2zM9 17H7v-7h2v7zm4 0h-2V7h2v10zm4 0h-2v-4h2v4z\"/>\n",
              "    </g>\n",
              "</svg>\n",
              "  </button>\n",
              "\n",
              "<style>\n",
              "  .colab-df-quickchart {\n",
              "      --bg-color: #E8F0FE;\n",
              "      --fill-color: #1967D2;\n",
              "      --hover-bg-color: #E2EBFA;\n",
              "      --hover-fill-color: #174EA6;\n",
              "      --disabled-fill-color: #AAA;\n",
              "      --disabled-bg-color: #DDD;\n",
              "  }\n",
              "\n",
              "  [theme=dark] .colab-df-quickchart {\n",
              "      --bg-color: #3B4455;\n",
              "      --fill-color: #D2E3FC;\n",
              "      --hover-bg-color: #434B5C;\n",
              "      --hover-fill-color: #FFFFFF;\n",
              "      --disabled-bg-color: #3B4455;\n",
              "      --disabled-fill-color: #666;\n",
              "  }\n",
              "\n",
              "  .colab-df-quickchart {\n",
              "    background-color: var(--bg-color);\n",
              "    border: none;\n",
              "    border-radius: 50%;\n",
              "    cursor: pointer;\n",
              "    display: none;\n",
              "    fill: var(--fill-color);\n",
              "    height: 32px;\n",
              "    padding: 0;\n",
              "    width: 32px;\n",
              "  }\n",
              "\n",
              "  .colab-df-quickchart:hover {\n",
              "    background-color: var(--hover-bg-color);\n",
              "    box-shadow: 0 1px 2px rgba(60, 64, 67, 0.3), 0 1px 3px 1px rgba(60, 64, 67, 0.15);\n",
              "    fill: var(--button-hover-fill-color);\n",
              "  }\n",
              "\n",
              "  .colab-df-quickchart-complete:disabled,\n",
              "  .colab-df-quickchart-complete:disabled:hover {\n",
              "    background-color: var(--disabled-bg-color);\n",
              "    fill: var(--disabled-fill-color);\n",
              "    box-shadow: none;\n",
              "  }\n",
              "\n",
              "  .colab-df-spinner {\n",
              "    border: 2px solid var(--fill-color);\n",
              "    border-color: transparent;\n",
              "    border-bottom-color: var(--fill-color);\n",
              "    animation:\n",
              "      spin 1s steps(1) infinite;\n",
              "  }\n",
              "\n",
              "  @keyframes spin {\n",
              "    0% {\n",
              "      border-color: transparent;\n",
              "      border-bottom-color: var(--fill-color);\n",
              "      border-left-color: var(--fill-color);\n",
              "    }\n",
              "    20% {\n",
              "      border-color: transparent;\n",
              "      border-left-color: var(--fill-color);\n",
              "      border-top-color: var(--fill-color);\n",
              "    }\n",
              "    30% {\n",
              "      border-color: transparent;\n",
              "      border-left-color: var(--fill-color);\n",
              "      border-top-color: var(--fill-color);\n",
              "      border-right-color: var(--fill-color);\n",
              "    }\n",
              "    40% {\n",
              "      border-color: transparent;\n",
              "      border-right-color: var(--fill-color);\n",
              "      border-top-color: var(--fill-color);\n",
              "    }\n",
              "    60% {\n",
              "      border-color: transparent;\n",
              "      border-right-color: var(--fill-color);\n",
              "    }\n",
              "    80% {\n",
              "      border-color: transparent;\n",
              "      border-right-color: var(--fill-color);\n",
              "      border-bottom-color: var(--fill-color);\n",
              "    }\n",
              "    90% {\n",
              "      border-color: transparent;\n",
              "      border-bottom-color: var(--fill-color);\n",
              "    }\n",
              "  }\n",
              "</style>\n",
              "\n",
              "  <script>\n",
              "    async function quickchart(key) {\n",
              "      const quickchartButtonEl =\n",
              "        document.querySelector('#' + key + ' button');\n",
              "      quickchartButtonEl.disabled = true;  // To prevent multiple clicks.\n",
              "      quickchartButtonEl.classList.add('colab-df-spinner');\n",
              "      try {\n",
              "        const charts = await google.colab.kernel.invokeFunction(\n",
              "            'suggestCharts', [key], {});\n",
              "      } catch (error) {\n",
              "        console.error('Error during call to suggestCharts:', error);\n",
              "      }\n",
              "      quickchartButtonEl.classList.remove('colab-df-spinner');\n",
              "      quickchartButtonEl.classList.add('colab-df-quickchart-complete');\n",
              "    }\n",
              "    (() => {\n",
              "      let quickchartButtonEl =\n",
              "        document.querySelector('#df-c08a9f44-9794-41fc-8188-fcd38b9ad376 button');\n",
              "      quickchartButtonEl.style.display =\n",
              "        google.colab.kernel.accessAllowed ? 'block' : 'none';\n",
              "    })();\n",
              "  </script>\n",
              "</div>\n",
              "\n",
              "    </div>\n",
              "  </div>\n"
            ],
            "application/vnd.google.colaboratory.intrinsic+json": {
              "type": "dataframe",
              "variable_name": "X_train_fe"
            }
          },
          "metadata": {},
          "execution_count": 14
        }
      ]
    },
    {
      "cell_type": "code",
      "source": [
        "## ORIGINAL FEATURES SET WHICH LED TO GOOD RESULTS! Keeping it on the back burner to not lose the set that got us to a good place\n",
        "\n",
        "# feature_cols = ['const', 'Infant_deaths', 'Adult_mortality', 'Economy_status_Developed', 'GDP_per_capita', 'Schooling', 'BMI', 'Incidents_HIV']"
      ],
      "metadata": {
        "id": "9MLNPs_tu4oT"
      },
      "execution_count": null,
      "outputs": []
    },
    {
      "cell_type": "code",
      "source": [
        "## SECOND SET OF FEATURES WHICH LED TO LOWER RMSE'S AND A LESS OVERFIT MODEL! Keeping them on the back burner as we experiment with other sets of features\n",
        "\n",
        "# feature_cols = ['const', 'Infant_deaths', 'Under_five_deaths', 'Adult_mortality', 'Economy_status_Developed', 'Schooling', 'BMI', 'Incidents_HIV', 'Thinness_ten_nineteen_years']"
      ],
      "metadata": {
        "id": "uAChN6JFu4ie"
      },
      "execution_count": null,
      "outputs": []
    },
    {
      "cell_type": "code",
      "source": [
        "# Final, definitive set of features we'll use for our robust model --> After having experimented with Ridge and Lasso Regression as well as VIF\n",
        "\n",
        "feature_cols = ['const', 'Infant_deaths', 'Under_five_deaths', 'Adult_mortality', 'Economy_status_Developed', 'Schooling', 'BMI', 'Incidents_HIV', 'Thinness_ten_nineteen_years']"
      ],
      "metadata": {
        "id": "B5r8US5Pu4cT"
      },
      "execution_count": null,
      "outputs": []
    },
    {
      "cell_type": "markdown",
      "source": [
        "### 3. **Fitting our Model and Analysing the Summary** 🧮\n",
        ">Passing our DataFrames into the `sm.OLS()` method\n",
        ">\n",
        ">Fitting our model and storing it in __results__"
      ],
      "metadata": {
        "id": "heMlvDpU2OqN"
      }
    },
    {
      "cell_type": "code",
      "source": [
        "lin_reg = sm.OLS(y_train, X_train_fe[feature_cols])\n",
        "results = lin_reg.fit()"
      ],
      "metadata": {
        "id": "QxuRU_qpmf02"
      },
      "execution_count": null,
      "outputs": []
    },
    {
      "cell_type": "code",
      "source": [
        "results.summary()"
      ],
      "metadata": {
        "colab": {
          "base_uri": "https://localhost:8080/",
          "height": 601
        },
        "id": "gVf9zgGuvJ8j",
        "outputId": "a4997845-485f-4a0d-d6f5-b62f730e267a"
      },
      "execution_count": null,
      "outputs": [
        {
          "output_type": "execute_result",
          "data": {
            "text/plain": [
              "<class 'statsmodels.iolib.summary.Summary'>\n",
              "\"\"\"\n",
              "                            OLS Regression Results                            \n",
              "==============================================================================\n",
              "Dep. Variable:        Life_expectancy   R-squared:                       0.977\n",
              "Model:                            OLS   Adj. R-squared:                  0.977\n",
              "Method:                 Least Squares   F-statistic:                 1.231e+04\n",
              "Date:                Mon, 07 Apr 2025   Prob (F-statistic):               0.00\n",
              "Time:                        10:12:28   Log-Likelihood:                -4026.4\n",
              "No. Observations:                2291   AIC:                             8071.\n",
              "Df Residuals:                    2282   BIC:                             8123.\n",
              "Df Model:                           8                                         \n",
              "Covariance Type:            nonrobust                                         \n",
              "===============================================================================================\n",
              "                                  coef    std err          t      P>|t|      [0.025      0.975]\n",
              "-----------------------------------------------------------------------------------------------\n",
              "const                          70.3811      0.165    427.347      0.000      70.058      70.704\n",
              "Infant_deaths                  -2.5090      0.269     -9.319      0.000      -3.037      -1.981\n",
              "Under_five_deaths              -2.5013      0.233    -10.737      0.000      -2.958      -2.044\n",
              "Adult_mortality                -6.8781      0.090    -76.145      0.000      -7.055      -6.701\n",
              "Economy_status_Developed        1.3142      0.102     12.862      0.000       1.114       1.515\n",
              "Schooling                       0.1561      0.018      8.502      0.000       0.120       0.192\n",
              "BMI                            -0.4354      0.068     -6.410      0.000      -0.569      -0.302\n",
              "Incidents_HIV                   0.1425      0.021      6.713      0.000       0.101       0.184\n",
              "Thinness_ten_nineteen_years    -0.0371      0.009     -4.068      0.000      -0.055      -0.019\n",
              "==============================================================================\n",
              "Omnibus:                       10.995   Durbin-Watson:                   1.986\n",
              "Prob(Omnibus):                  0.004   Jarque-Bera (JB):               11.125\n",
              "Skew:                           0.151   Prob(JB):                      0.00384\n",
              "Kurtosis:                       3.159   Cond. No.                         113.\n",
              "==============================================================================\n",
              "\n",
              "Notes:\n",
              "[1] Standard Errors assume that the covariance matrix of the errors is correctly specified.\n",
              "\"\"\""
            ],
            "text/html": [
              "<table class=\"simpletable\">\n",
              "<caption>OLS Regression Results</caption>\n",
              "<tr>\n",
              "  <th>Dep. Variable:</th>     <td>Life_expectancy</td> <th>  R-squared:         </th> <td>   0.977</td> \n",
              "</tr>\n",
              "<tr>\n",
              "  <th>Model:</th>                   <td>OLS</td>       <th>  Adj. R-squared:    </th> <td>   0.977</td> \n",
              "</tr>\n",
              "<tr>\n",
              "  <th>Method:</th>             <td>Least Squares</td>  <th>  F-statistic:       </th> <td>1.231e+04</td>\n",
              "</tr>\n",
              "<tr>\n",
              "  <th>Date:</th>             <td>Mon, 07 Apr 2025</td> <th>  Prob (F-statistic):</th>  <td>  0.00</td>  \n",
              "</tr>\n",
              "<tr>\n",
              "  <th>Time:</th>                 <td>10:12:28</td>     <th>  Log-Likelihood:    </th> <td> -4026.4</td> \n",
              "</tr>\n",
              "<tr>\n",
              "  <th>No. Observations:</th>      <td>  2291</td>      <th>  AIC:               </th> <td>   8071.</td> \n",
              "</tr>\n",
              "<tr>\n",
              "  <th>Df Residuals:</th>          <td>  2282</td>      <th>  BIC:               </th> <td>   8123.</td> \n",
              "</tr>\n",
              "<tr>\n",
              "  <th>Df Model:</th>              <td>     8</td>      <th>                     </th>     <td> </td>    \n",
              "</tr>\n",
              "<tr>\n",
              "  <th>Covariance Type:</th>      <td>nonrobust</td>    <th>                     </th>     <td> </td>    \n",
              "</tr>\n",
              "</table>\n",
              "<table class=\"simpletable\">\n",
              "<tr>\n",
              "               <td></td>                  <th>coef</th>     <th>std err</th>      <th>t</th>      <th>P>|t|</th>  <th>[0.025</th>    <th>0.975]</th>  \n",
              "</tr>\n",
              "<tr>\n",
              "  <th>const</th>                       <td>   70.3811</td> <td>    0.165</td> <td>  427.347</td> <td> 0.000</td> <td>   70.058</td> <td>   70.704</td>\n",
              "</tr>\n",
              "<tr>\n",
              "  <th>Infant_deaths</th>               <td>   -2.5090</td> <td>    0.269</td> <td>   -9.319</td> <td> 0.000</td> <td>   -3.037</td> <td>   -1.981</td>\n",
              "</tr>\n",
              "<tr>\n",
              "  <th>Under_five_deaths</th>           <td>   -2.5013</td> <td>    0.233</td> <td>  -10.737</td> <td> 0.000</td> <td>   -2.958</td> <td>   -2.044</td>\n",
              "</tr>\n",
              "<tr>\n",
              "  <th>Adult_mortality</th>             <td>   -6.8781</td> <td>    0.090</td> <td>  -76.145</td> <td> 0.000</td> <td>   -7.055</td> <td>   -6.701</td>\n",
              "</tr>\n",
              "<tr>\n",
              "  <th>Economy_status_Developed</th>    <td>    1.3142</td> <td>    0.102</td> <td>   12.862</td> <td> 0.000</td> <td>    1.114</td> <td>    1.515</td>\n",
              "</tr>\n",
              "<tr>\n",
              "  <th>Schooling</th>                   <td>    0.1561</td> <td>    0.018</td> <td>    8.502</td> <td> 0.000</td> <td>    0.120</td> <td>    0.192</td>\n",
              "</tr>\n",
              "<tr>\n",
              "  <th>BMI</th>                         <td>   -0.4354</td> <td>    0.068</td> <td>   -6.410</td> <td> 0.000</td> <td>   -0.569</td> <td>   -0.302</td>\n",
              "</tr>\n",
              "<tr>\n",
              "  <th>Incidents_HIV</th>               <td>    0.1425</td> <td>    0.021</td> <td>    6.713</td> <td> 0.000</td> <td>    0.101</td> <td>    0.184</td>\n",
              "</tr>\n",
              "<tr>\n",
              "  <th>Thinness_ten_nineteen_years</th> <td>   -0.0371</td> <td>    0.009</td> <td>   -4.068</td> <td> 0.000</td> <td>   -0.055</td> <td>   -0.019</td>\n",
              "</tr>\n",
              "</table>\n",
              "<table class=\"simpletable\">\n",
              "<tr>\n",
              "  <th>Omnibus:</th>       <td>10.995</td> <th>  Durbin-Watson:     </th> <td>   1.986</td>\n",
              "</tr>\n",
              "<tr>\n",
              "  <th>Prob(Omnibus):</th> <td> 0.004</td> <th>  Jarque-Bera (JB):  </th> <td>  11.125</td>\n",
              "</tr>\n",
              "<tr>\n",
              "  <th>Skew:</th>          <td> 0.151</td> <th>  Prob(JB):          </th> <td> 0.00384</td>\n",
              "</tr>\n",
              "<tr>\n",
              "  <th>Kurtosis:</th>      <td> 3.159</td> <th>  Cond. No.          </th> <td>    113.</td>\n",
              "</tr>\n",
              "</table><br/><br/>Notes:<br/>[1] Standard Errors assume that the covariance matrix of the errors is correctly specified."
            ],
            "text/latex": "\\begin{center}\n\\begin{tabular}{lclc}\n\\toprule\n\\textbf{Dep. Variable:}                 & Life\\_expectancy & \\textbf{  R-squared:         } &     0.977   \\\\\n\\textbf{Model:}                         &       OLS        & \\textbf{  Adj. R-squared:    } &     0.977   \\\\\n\\textbf{Method:}                        &  Least Squares   & \\textbf{  F-statistic:       } & 1.231e+04   \\\\\n\\textbf{Date:}                          & Mon, 07 Apr 2025 & \\textbf{  Prob (F-statistic):} &     0.00    \\\\\n\\textbf{Time:}                          &     10:12:28     & \\textbf{  Log-Likelihood:    } &   -4026.4   \\\\\n\\textbf{No. Observations:}              &        2291      & \\textbf{  AIC:               } &     8071.   \\\\\n\\textbf{Df Residuals:}                  &        2282      & \\textbf{  BIC:               } &     8123.   \\\\\n\\textbf{Df Model:}                      &           8      & \\textbf{                     } &             \\\\\n\\textbf{Covariance Type:}               &    nonrobust     & \\textbf{                     } &             \\\\\n\\bottomrule\n\\end{tabular}\n\\begin{tabular}{lcccccc}\n                                        & \\textbf{coef} & \\textbf{std err} & \\textbf{t} & \\textbf{P$> |$t$|$} & \\textbf{[0.025} & \\textbf{0.975]}  \\\\\n\\midrule\n\\textbf{const}                          &      70.3811  &        0.165     &   427.347  &         0.000        &       70.058    &       70.704     \\\\\n\\textbf{Infant\\_deaths}                 &      -2.5090  &        0.269     &    -9.319  &         0.000        &       -3.037    &       -1.981     \\\\\n\\textbf{Under\\_five\\_deaths}            &      -2.5013  &        0.233     &   -10.737  &         0.000        &       -2.958    &       -2.044     \\\\\n\\textbf{Adult\\_mortality}               &      -6.8781  &        0.090     &   -76.145  &         0.000        &       -7.055    &       -6.701     \\\\\n\\textbf{Economy\\_status\\_Developed}     &       1.3142  &        0.102     &    12.862  &         0.000        &        1.114    &        1.515     \\\\\n\\textbf{Schooling}                      &       0.1561  &        0.018     &     8.502  &         0.000        &        0.120    &        0.192     \\\\\n\\textbf{BMI}                            &      -0.4354  &        0.068     &    -6.410  &         0.000        &       -0.569    &       -0.302     \\\\\n\\textbf{Incidents\\_HIV}                 &       0.1425  &        0.021     &     6.713  &         0.000        &        0.101    &        0.184     \\\\\n\\textbf{Thinness\\_ten\\_nineteen\\_years} &      -0.0371  &        0.009     &    -4.068  &         0.000        &       -0.055    &       -0.019     \\\\\n\\bottomrule\n\\end{tabular}\n\\begin{tabular}{lclc}\n\\textbf{Omnibus:}       & 10.995 & \\textbf{  Durbin-Watson:     } &    1.986  \\\\\n\\textbf{Prob(Omnibus):} &  0.004 & \\textbf{  Jarque-Bera (JB):  } &   11.125  \\\\\n\\textbf{Skew:}          &  0.151 & \\textbf{  Prob(JB):          } &  0.00384  \\\\\n\\textbf{Kurtosis:}      &  3.159 & \\textbf{  Cond. No.          } &     113.  \\\\\n\\bottomrule\n\\end{tabular}\n%\\caption{OLS Regression Results}\n\\end{center}\n\nNotes: \\newline\n [1] Standard Errors assume that the covariance matrix of the errors is correctly specified."
          },
          "metadata": {},
          "execution_count": 19
        }
      ]
    },
    {
      "cell_type": "markdown",
      "source": [
        "---"
      ],
      "metadata": {
        "id": "dmizQVR-3wbS"
      }
    },
    {
      "cell_type": "markdown",
      "source": [
        "### 4. **Experimenting with VIF --> Can we improve our results?** ⚙️\n",
        "\n"
      ],
      "metadata": {
        "id": "uvHeguW82Ywu"
      }
    },
    {
      "cell_type": "markdown",
      "source": [
        "#### !Using code from the in-class LinReg part 4 notebook!"
      ],
      "metadata": {
        "id": "8tQwv2q-vAjm"
      }
    },
    {
      "cell_type": "code",
      "source": [
        "def calculate_vif(X, thresh = 5.0):\n",
        "    variables = list(range(X.shape[1]))\n",
        "    dropped = True\n",
        "    while dropped:\n",
        "        dropped = False\n",
        "        # this bit uses list comprehension to gather all the VIF values of the different variables\n",
        "        vif = [variance_inflation_factor(X.iloc[:, variables].values, ix)\n",
        "               for ix in range(X.iloc[:, variables].shape[1])]\n",
        "\n",
        "        maxloc = vif.index(max(vif)) # getting the index of the highest VIF value\n",
        "        if max(vif) > thresh:\n",
        "            print('dropping \\'' + X.iloc[:, variables].columns[maxloc] +\n",
        "                  '\\' at index: ' + str(maxloc))\n",
        "            del variables[maxloc] # we delete the highest VIF value on condition that it's higher than the threshold\n",
        "            dropped = True # if we deleted anything, we set the 'dropped' value to True to stay in the while loop\n",
        "\n",
        "    print('Remaining variables:')\n",
        "    print(X.columns[variables]) # finally, we print the variables that are still in our set\n",
        "    return X.iloc[:, variables] # and return our X cut down to the remaining variables"
      ],
      "metadata": {
        "id": "6sWAj2PLmhOJ"
      },
      "execution_count": null,
      "outputs": []
    },
    {
      "cell_type": "code",
      "source": [
        "vif_features = calculate_vif(X_train_fe[feature_cols])"
      ],
      "metadata": {
        "colab": {
          "base_uri": "https://localhost:8080/"
        },
        "id": "r47-D1LAvXQ7",
        "outputId": "b04bee76-2a95-4807-efb6-ed017db5b81c"
      },
      "execution_count": null,
      "outputs": [
        {
          "output_type": "stream",
          "name": "stdout",
          "text": [
            "dropping 'Infant_deaths' at index: 1\n",
            "dropping 'const' at index: 0\n",
            "dropping 'Adult_mortality' at index: 1\n",
            "Remaining variables:\n",
            "Index(['Under_five_deaths', 'Economy_status_Developed', 'Schooling', 'BMI',\n",
            "       'Incidents_HIV', 'Thinness_ten_nineteen_years'],\n",
            "      dtype='object')\n"
          ]
        }
      ]
    },
    {
      "cell_type": "code",
      "source": [
        "vif_lin_reg = sm.OLS(y_train, vif_features)\n",
        "vif_results = vif_lin_reg.fit()"
      ],
      "metadata": {
        "id": "n0kW10FYvXMk"
      },
      "execution_count": null,
      "outputs": []
    },
    {
      "cell_type": "code",
      "source": [
        "vif_results.summary()"
      ],
      "metadata": {
        "colab": {
          "base_uri": "https://localhost:8080/",
          "height": 554
        },
        "id": "iuhhabKDvXG9",
        "outputId": "9c9bf79f-63b7-40db-877e-2659cd921265"
      },
      "execution_count": null,
      "outputs": [
        {
          "output_type": "execute_result",
          "data": {
            "text/plain": [
              "<class 'statsmodels.iolib.summary.Summary'>\n",
              "\"\"\"\n",
              "                                 OLS Regression Results                                \n",
              "=======================================================================================\n",
              "Dep. Variable:        Life_expectancy   R-squared (uncentered):                   0.963\n",
              "Model:                            OLS   Adj. R-squared (uncentered):              0.963\n",
              "Method:                 Least Squares   F-statistic:                              9933.\n",
              "Date:                Mon, 07 Apr 2025   Prob (F-statistic):                        0.00\n",
              "Time:                        10:13:30   Log-Likelihood:                         -9189.1\n",
              "No. Observations:                2291   AIC:                                  1.839e+04\n",
              "Df Residuals:                    2285   BIC:                                  1.842e+04\n",
              "Df Model:                           6                                                  \n",
              "Covariance Type:            nonrobust                                                  \n",
              "===============================================================================================\n",
              "                                  coef    std err          t      P>|t|      [0.025      0.975]\n",
              "-----------------------------------------------------------------------------------------------\n",
              "Under_five_deaths               9.5076      0.515     18.452      0.000       8.497      10.518\n",
              "Economy_status_Developed       -6.0217      0.888     -6.781      0.000      -7.763      -4.280\n",
              "Schooling                       7.4965      0.063    118.353      0.000       7.372       7.621\n",
              "BMI                            -1.0823      0.637     -1.699      0.089      -2.331       0.167\n",
              "Incidents_HIV                  -2.0216      0.136    -14.861      0.000      -2.288      -1.755\n",
              "Thinness_ten_nineteen_years     1.7838      0.077     23.115      0.000       1.632       1.935\n",
              "==============================================================================\n",
              "Omnibus:                        7.584   Durbin-Watson:                   1.982\n",
              "Prob(Omnibus):                  0.023   Jarque-Bera (JB):                7.361\n",
              "Skew:                          -0.113   Prob(JB):                       0.0252\n",
              "Kurtosis:                       2.839   Cond. No.                         31.5\n",
              "==============================================================================\n",
              "\n",
              "Notes:\n",
              "[1] R² is computed without centering (uncentered) since the model does not contain a constant.\n",
              "[2] Standard Errors assume that the covariance matrix of the errors is correctly specified.\n",
              "\"\"\""
            ],
            "text/html": [
              "<table class=\"simpletable\">\n",
              "<caption>OLS Regression Results</caption>\n",
              "<tr>\n",
              "  <th>Dep. Variable:</th>     <td>Life_expectancy</td> <th>  R-squared (uncentered):</th>      <td>   0.963</td> \n",
              "</tr>\n",
              "<tr>\n",
              "  <th>Model:</th>                   <td>OLS</td>       <th>  Adj. R-squared (uncentered):</th> <td>   0.963</td> \n",
              "</tr>\n",
              "<tr>\n",
              "  <th>Method:</th>             <td>Least Squares</td>  <th>  F-statistic:       </th>          <td>   9933.</td> \n",
              "</tr>\n",
              "<tr>\n",
              "  <th>Date:</th>             <td>Mon, 07 Apr 2025</td> <th>  Prob (F-statistic):</th>           <td>  0.00</td>  \n",
              "</tr>\n",
              "<tr>\n",
              "  <th>Time:</th>                 <td>10:13:30</td>     <th>  Log-Likelihood:    </th>          <td> -9189.1</td> \n",
              "</tr>\n",
              "<tr>\n",
              "  <th>No. Observations:</th>      <td>  2291</td>      <th>  AIC:               </th>          <td>1.839e+04</td>\n",
              "</tr>\n",
              "<tr>\n",
              "  <th>Df Residuals:</th>          <td>  2285</td>      <th>  BIC:               </th>          <td>1.842e+04</td>\n",
              "</tr>\n",
              "<tr>\n",
              "  <th>Df Model:</th>              <td>     6</td>      <th>                     </th>              <td> </td>    \n",
              "</tr>\n",
              "<tr>\n",
              "  <th>Covariance Type:</th>      <td>nonrobust</td>    <th>                     </th>              <td> </td>    \n",
              "</tr>\n",
              "</table>\n",
              "<table class=\"simpletable\">\n",
              "<tr>\n",
              "               <td></td>                  <th>coef</th>     <th>std err</th>      <th>t</th>      <th>P>|t|</th>  <th>[0.025</th>    <th>0.975]</th>  \n",
              "</tr>\n",
              "<tr>\n",
              "  <th>Under_five_deaths</th>           <td>    9.5076</td> <td>    0.515</td> <td>   18.452</td> <td> 0.000</td> <td>    8.497</td> <td>   10.518</td>\n",
              "</tr>\n",
              "<tr>\n",
              "  <th>Economy_status_Developed</th>    <td>   -6.0217</td> <td>    0.888</td> <td>   -6.781</td> <td> 0.000</td> <td>   -7.763</td> <td>   -4.280</td>\n",
              "</tr>\n",
              "<tr>\n",
              "  <th>Schooling</th>                   <td>    7.4965</td> <td>    0.063</td> <td>  118.353</td> <td> 0.000</td> <td>    7.372</td> <td>    7.621</td>\n",
              "</tr>\n",
              "<tr>\n",
              "  <th>BMI</th>                         <td>   -1.0823</td> <td>    0.637</td> <td>   -1.699</td> <td> 0.089</td> <td>   -2.331</td> <td>    0.167</td>\n",
              "</tr>\n",
              "<tr>\n",
              "  <th>Incidents_HIV</th>               <td>   -2.0216</td> <td>    0.136</td> <td>  -14.861</td> <td> 0.000</td> <td>   -2.288</td> <td>   -1.755</td>\n",
              "</tr>\n",
              "<tr>\n",
              "  <th>Thinness_ten_nineteen_years</th> <td>    1.7838</td> <td>    0.077</td> <td>   23.115</td> <td> 0.000</td> <td>    1.632</td> <td>    1.935</td>\n",
              "</tr>\n",
              "</table>\n",
              "<table class=\"simpletable\">\n",
              "<tr>\n",
              "  <th>Omnibus:</th>       <td> 7.584</td> <th>  Durbin-Watson:     </th> <td>   1.982</td>\n",
              "</tr>\n",
              "<tr>\n",
              "  <th>Prob(Omnibus):</th> <td> 0.023</td> <th>  Jarque-Bera (JB):  </th> <td>   7.361</td>\n",
              "</tr>\n",
              "<tr>\n",
              "  <th>Skew:</th>          <td>-0.113</td> <th>  Prob(JB):          </th> <td>  0.0252</td>\n",
              "</tr>\n",
              "<tr>\n",
              "  <th>Kurtosis:</th>      <td> 2.839</td> <th>  Cond. No.          </th> <td>    31.5</td>\n",
              "</tr>\n",
              "</table><br/><br/>Notes:<br/>[1] R² is computed without centering (uncentered) since the model does not contain a constant.<br/>[2] Standard Errors assume that the covariance matrix of the errors is correctly specified."
            ],
            "text/latex": "\\begin{center}\n\\begin{tabular}{lclc}\n\\toprule\n\\textbf{Dep. Variable:}                 & Life\\_expectancy & \\textbf{  R-squared (uncentered):}      &     0.963   \\\\\n\\textbf{Model:}                         &       OLS        & \\textbf{  Adj. R-squared (uncentered):} &     0.963   \\\\\n\\textbf{Method:}                        &  Least Squares   & \\textbf{  F-statistic:       }          &     9933.   \\\\\n\\textbf{Date:}                          & Mon, 07 Apr 2025 & \\textbf{  Prob (F-statistic):}          &     0.00    \\\\\n\\textbf{Time:}                          &     10:13:30     & \\textbf{  Log-Likelihood:    }          &   -9189.1   \\\\\n\\textbf{No. Observations:}              &        2291      & \\textbf{  AIC:               }          & 1.839e+04   \\\\\n\\textbf{Df Residuals:}                  &        2285      & \\textbf{  BIC:               }          & 1.842e+04   \\\\\n\\textbf{Df Model:}                      &           6      & \\textbf{                     }          &             \\\\\n\\textbf{Covariance Type:}               &    nonrobust     & \\textbf{                     }          &             \\\\\n\\bottomrule\n\\end{tabular}\n\\begin{tabular}{lcccccc}\n                                        & \\textbf{coef} & \\textbf{std err} & \\textbf{t} & \\textbf{P$> |$t$|$} & \\textbf{[0.025} & \\textbf{0.975]}  \\\\\n\\midrule\n\\textbf{Under\\_five\\_deaths}            &       9.5076  &        0.515     &    18.452  &         0.000        &        8.497    &       10.518     \\\\\n\\textbf{Economy\\_status\\_Developed}     &      -6.0217  &        0.888     &    -6.781  &         0.000        &       -7.763    &       -4.280     \\\\\n\\textbf{Schooling}                      &       7.4965  &        0.063     &   118.353  &         0.000        &        7.372    &        7.621     \\\\\n\\textbf{BMI}                            &      -1.0823  &        0.637     &    -1.699  &         0.089        &       -2.331    &        0.167     \\\\\n\\textbf{Incidents\\_HIV}                 &      -2.0216  &        0.136     &   -14.861  &         0.000        &       -2.288    &       -1.755     \\\\\n\\textbf{Thinness\\_ten\\_nineteen\\_years} &       1.7838  &        0.077     &    23.115  &         0.000        &        1.632    &        1.935     \\\\\n\\bottomrule\n\\end{tabular}\n\\begin{tabular}{lclc}\n\\textbf{Omnibus:}       &  7.584 & \\textbf{  Durbin-Watson:     } &    1.982  \\\\\n\\textbf{Prob(Omnibus):} &  0.023 & \\textbf{  Jarque-Bera (JB):  } &    7.361  \\\\\n\\textbf{Skew:}          & -0.113 & \\textbf{  Prob(JB):          } &   0.0252  \\\\\n\\textbf{Kurtosis:}      &  2.839 & \\textbf{  Cond. No.          } &     31.5  \\\\\n\\bottomrule\n\\end{tabular}\n%\\caption{OLS Regression Results}\n\\end{center}\n\nNotes: \\newline\n [1] R² is computed without centering (uncentered) since the model does not contain a constant. \\newline\n [2] Standard Errors assume that the covariance matrix of the errors is correctly specified."
          },
          "metadata": {},
          "execution_count": 23
        }
      ]
    },
    {
      "cell_type": "markdown",
      "source": [
        "**Notes on VIF:**\n",
        "\n",
        ">After experimenting with VIF's suggestion for features, we came to the conclusion that the model turned out to be worse than what we'd come to previously:\n",
        ">This is because:\n",
        ">* The R-squared __decreased__\n",
        ">* AIC and BIC __became much larger__\n",
        ">* The __`.summary()`__ method gave us a warning about R-squared being computed without centering --> as it is __missing the constant__\n",
        ">\n",
        ">With these new results in mind, we decided to hold on to the features we'd used before as we believe they had led to a more robust model"
      ],
      "metadata": {
        "id": "7-_RgHTLvdHH"
      }
    },
    {
      "cell_type": "markdown",
      "source": [
        "---"
      ],
      "metadata": {
        "id": "smykBYus3xIq"
      }
    },
    {
      "cell_type": "markdown",
      "source": [
        "### 5. **Creating Predictions --> Training Set** 🔑\n",
        ">Using the `.predict()` method, we effectively create our predictions based on our features __training__ set\n",
        ">\n",
        ">We store results inside __y_pred__"
      ],
      "metadata": {
        "id": "CPQns-u32bOI"
      }
    },
    {
      "cell_type": "code",
      "source": [
        "y_pred = results.predict(X_train_fe[feature_cols])"
      ],
      "metadata": {
        "id": "nITIK9VFmiUw"
      },
      "execution_count": null,
      "outputs": []
    },
    {
      "cell_type": "markdown",
      "source": [
        ">To analyse our model's performance, we resorted to the RMSE metric\n",
        ">\n",
        ">* This is because RMSE effectively penalises outliers in the data\n",
        ">    * Even though we've scaled our data, we still want to account for the different values we have across our numerical columns"
      ],
      "metadata": {
        "id": "bwJsOVrPwjl1"
      }
    },
    {
      "cell_type": "code",
      "source": [
        "train_rmse = sm.tools.eval_measures.rmse(y_train, y_pred)\n",
        "\n",
        "print(train_rmse)"
      ],
      "metadata": {
        "colab": {
          "base_uri": "https://localhost:8080/"
        },
        "id": "vnZH0Mw_wlee",
        "outputId": "1d2133ce-a66c-4b9a-c0a3-6af76f5c088b"
      },
      "execution_count": null,
      "outputs": [
        {
          "output_type": "stream",
          "name": "stdout",
          "text": [
            "1.402932764410591\n"
          ]
        }
      ]
    },
    {
      "cell_type": "code",
      "source": [],
      "metadata": {
        "id": "ioJHnuh4wlVE"
      },
      "execution_count": null,
      "outputs": []
    },
    {
      "cell_type": "markdown",
      "source": [
        "---"
      ],
      "metadata": {
        "id": "42HC6fxa3x5R"
      }
    },
    {
      "cell_type": "markdown",
      "source": [
        "### 6. **Creating Predictions --> Testing Set** 🔑\n",
        ">We now run the same process but for our features __testing__ set"
      ],
      "metadata": {
        "id": "kpHazT9u2eFW"
      }
    },
    {
      "cell_type": "code",
      "source": [
        "X_test_fe = feature_eng(X_test)"
      ],
      "metadata": {
        "id": "Huv6Pv-lmjrz"
      },
      "execution_count": null,
      "outputs": []
    },
    {
      "cell_type": "code",
      "source": [
        "y_pred_test = results.predict(X_test_fe[feature_cols])"
      ],
      "metadata": {
        "id": "IEKoh3-smmhR"
      },
      "execution_count": null,
      "outputs": []
    },
    {
      "cell_type": "code",
      "source": [
        "test_rmse = sm.tools.eval_measures.rmse(y_test, y_pred_test)\n",
        "\n",
        "print(test_rmse)"
      ],
      "metadata": {
        "colab": {
          "base_uri": "https://localhost:8080/"
        },
        "id": "4voheWVRxFFM",
        "outputId": "88a8a63e-54f3-47ae-813d-8dcbedb2df71"
      },
      "execution_count": null,
      "outputs": [
        {
          "output_type": "stream",
          "name": "stdout",
          "text": [
            "1.412967124402819\n"
          ]
        }
      ]
    },
    {
      "cell_type": "markdown",
      "source": [
        ">To get a better feel for the difference in RMSE's from training to testing, we also calculated the __percentage difference between the two__;\n",
        ">\n",
        ">* This will effectively tell us __how much the testing RMSE increased when compared to the training one__"
      ],
      "metadata": {
        "id": "t0pPXSNTt-Io"
      }
    },
    {
      "cell_type": "code",
      "source": [
        "pct_diff = ((test_rmse/train_rmse)-1)*100"
      ],
      "metadata": {
        "id": "Bt3LLbStaD8S"
      },
      "execution_count": null,
      "outputs": []
    },
    {
      "cell_type": "code",
      "source": [
        "print(f'Percentage difference between testing and training: {round(pct_diff, 1)}%')"
      ],
      "metadata": {
        "colab": {
          "base_uri": "https://localhost:8080/"
        },
        "id": "-cDKawXnuXmV",
        "outputId": "8996ccfc-88f8-476b-dbc5-4f04c8ee68ba"
      },
      "execution_count": null,
      "outputs": [
        {
          "output_type": "stream",
          "name": "stdout",
          "text": [
            "Percentage difference between testing and training: 0.7%\n"
          ]
        }
      ]
    },
    {
      "cell_type": "markdown",
      "source": [
        ">As the model is only <u>slightly overfit</u> (~0.01 or 0.7% diff between training and testing), and we have managed to __hit the baseline target of a sub-2 RMSE__ whilst <u>maintaining good metrics all around</u> (__0.977 R-squared__, the __lowest AIC and BIC__ we achieved after experimenting with different sets of feature_cols, __113 condition number__), we believe we've built a __robust and effective model__!"
      ],
      "metadata": {
        "id": "ZpHrR0Z9xLLd"
      }
    },
    {
      "cell_type": "markdown",
      "source": [
        "---"
      ],
      "metadata": {
        "id": "26XduCzp3ydi"
      }
    }
  ]
}